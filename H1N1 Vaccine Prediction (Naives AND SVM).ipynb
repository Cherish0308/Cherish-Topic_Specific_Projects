{
 "cells": [
  {
   "cell_type": "code",
   "execution_count": 1,
   "id": "6b48f8ba",
   "metadata": {},
   "outputs": [],
   "source": [
    "import pandas as pd\n",
    "import numpy as np\n",
    "import matplotlib.pyplot as plt\n",
    "%matplotlib inline"
   ]
  },
  {
   "cell_type": "code",
   "execution_count": 2,
   "id": "e4bdf8e3",
   "metadata": {},
   "outputs": [
    {
     "name": "stdout",
     "output_type": "stream",
     "text": [
      "/Users/avishma/Desktop/Driven Data H1N1\n"
     ]
    }
   ],
   "source": [
    "import io\n",
    "%cd '/Users/avishma/Desktop/Driven Data H1N1'"
   ]
  },
  {
   "cell_type": "code",
   "execution_count": 97,
   "id": "e77ac2a1",
   "metadata": {},
   "outputs": [],
   "source": [
    "test=pd.read_csv('test_set_features.csv')"
   ]
  },
  {
   "cell_type": "code",
   "execution_count": 98,
   "id": "bafabe22",
   "metadata": {},
   "outputs": [],
   "source": [
    "train=pd.read_csv('training_set_features.csv')"
   ]
  },
  {
   "cell_type": "code",
   "execution_count": 99,
   "id": "6d1a0644",
   "metadata": {},
   "outputs": [],
   "source": [
    "label=pd.read_csv('training_set_labels.csv')"
   ]
  },
  {
   "cell_type": "code",
   "execution_count": 100,
   "id": "2202de08",
   "metadata": {},
   "outputs": [
    {
     "name": "stdout",
     "output_type": "stream",
     "text": [
      "<class 'pandas.core.frame.DataFrame'>\n",
      "RangeIndex: 26708 entries, 0 to 26707\n",
      "Data columns (total 36 columns):\n",
      " #   Column                       Non-Null Count  Dtype  \n",
      "---  ------                       --------------  -----  \n",
      " 0   respondent_id                26708 non-null  int64  \n",
      " 1   h1n1_concern                 26623 non-null  float64\n",
      " 2   h1n1_knowledge               26586 non-null  float64\n",
      " 3   behavioral_antiviral_meds    26629 non-null  float64\n",
      " 4   behavioral_avoidance         26495 non-null  float64\n",
      " 5   behavioral_face_mask         26689 non-null  float64\n",
      " 6   behavioral_wash_hands        26668 non-null  float64\n",
      " 7   behavioral_large_gatherings  26636 non-null  float64\n",
      " 8   behavioral_outside_home      26626 non-null  float64\n",
      " 9   behavioral_touch_face        26580 non-null  float64\n",
      " 10  doctor_recc_h1n1             24548 non-null  float64\n",
      " 11  doctor_recc_seasonal         24548 non-null  float64\n",
      " 12  chronic_med_condition        25776 non-null  float64\n",
      " 13  child_under_6_months         25895 non-null  float64\n",
      " 14  health_worker                25919 non-null  float64\n",
      " 15  health_insurance             14480 non-null  float64\n",
      " 16  opinion_h1n1_vacc_effective  26310 non-null  float64\n",
      " 17  opinion_h1n1_risk            26328 non-null  float64\n",
      " 18  opinion_h1n1_sick_from_vacc  26333 non-null  float64\n",
      " 19  opinion_seas_vacc_effective  26256 non-null  float64\n",
      " 20  opinion_seas_risk            26209 non-null  float64\n",
      " 21  opinion_seas_sick_from_vacc  26187 non-null  float64\n",
      " 22  age_group                    26708 non-null  object \n",
      " 23  education                    25301 non-null  object \n",
      " 24  race                         26708 non-null  object \n",
      " 25  sex                          26708 non-null  object \n",
      " 26  income_poverty               22211 non-null  object \n",
      " 27  marital_status               25266 non-null  object \n",
      " 28  rent_or_own                  24672 non-null  object \n",
      " 29  employment_status            25237 non-null  object \n",
      " 30  hhs_geo_region               26708 non-null  object \n",
      " 31  census_msa                   26708 non-null  object \n",
      " 32  household_adults             26483 non-null  float64\n",
      " 33  household_children           26483 non-null  float64\n",
      " 34  employment_industry          13433 non-null  object \n",
      " 35  employment_occupation        13282 non-null  object \n",
      "dtypes: float64(23), int64(1), object(12)\n",
      "memory usage: 7.3+ MB\n"
     ]
    }
   ],
   "source": [
    "test.info()"
   ]
  },
  {
   "cell_type": "code",
   "execution_count": 101,
   "id": "5aac3147",
   "metadata": {},
   "outputs": [
    {
     "name": "stdout",
     "output_type": "stream",
     "text": [
      "<class 'pandas.core.frame.DataFrame'>\n",
      "RangeIndex: 26707 entries, 0 to 26706\n",
      "Data columns (total 36 columns):\n",
      " #   Column                       Non-Null Count  Dtype  \n",
      "---  ------                       --------------  -----  \n",
      " 0   respondent_id                26707 non-null  int64  \n",
      " 1   h1n1_concern                 26615 non-null  float64\n",
      " 2   h1n1_knowledge               26591 non-null  float64\n",
      " 3   behavioral_antiviral_meds    26636 non-null  float64\n",
      " 4   behavioral_avoidance         26499 non-null  float64\n",
      " 5   behavioral_face_mask         26688 non-null  float64\n",
      " 6   behavioral_wash_hands        26665 non-null  float64\n",
      " 7   behavioral_large_gatherings  26620 non-null  float64\n",
      " 8   behavioral_outside_home      26625 non-null  float64\n",
      " 9   behavioral_touch_face        26579 non-null  float64\n",
      " 10  doctor_recc_h1n1             24547 non-null  float64\n",
      " 11  doctor_recc_seasonal         24547 non-null  float64\n",
      " 12  chronic_med_condition        25736 non-null  float64\n",
      " 13  child_under_6_months         25887 non-null  float64\n",
      " 14  health_worker                25903 non-null  float64\n",
      " 15  health_insurance             14433 non-null  float64\n",
      " 16  opinion_h1n1_vacc_effective  26316 non-null  float64\n",
      " 17  opinion_h1n1_risk            26319 non-null  float64\n",
      " 18  opinion_h1n1_sick_from_vacc  26312 non-null  float64\n",
      " 19  opinion_seas_vacc_effective  26245 non-null  float64\n",
      " 20  opinion_seas_risk            26193 non-null  float64\n",
      " 21  opinion_seas_sick_from_vacc  26170 non-null  float64\n",
      " 22  age_group                    26707 non-null  object \n",
      " 23  education                    25300 non-null  object \n",
      " 24  race                         26707 non-null  object \n",
      " 25  sex                          26707 non-null  object \n",
      " 26  income_poverty               22284 non-null  object \n",
      " 27  marital_status               25299 non-null  object \n",
      " 28  rent_or_own                  24665 non-null  object \n",
      " 29  employment_status            25244 non-null  object \n",
      " 30  hhs_geo_region               26707 non-null  object \n",
      " 31  census_msa                   26707 non-null  object \n",
      " 32  household_adults             26458 non-null  float64\n",
      " 33  household_children           26458 non-null  float64\n",
      " 34  employment_industry          13377 non-null  object \n",
      " 35  employment_occupation        13237 non-null  object \n",
      "dtypes: float64(23), int64(1), object(12)\n",
      "memory usage: 7.3+ MB\n"
     ]
    }
   ],
   "source": [
    "train.info()"
   ]
  },
  {
   "cell_type": "code",
   "execution_count": 102,
   "id": "cbbad070",
   "metadata": {},
   "outputs": [
    {
     "name": "stdout",
     "output_type": "stream",
     "text": [
      "<class 'pandas.core.frame.DataFrame'>\n",
      "RangeIndex: 26707 entries, 0 to 26706\n",
      "Data columns (total 3 columns):\n",
      " #   Column            Non-Null Count  Dtype\n",
      "---  ------            --------------  -----\n",
      " 0   respondent_id     26707 non-null  int64\n",
      " 1   h1n1_vaccine      26707 non-null  int64\n",
      " 2   seasonal_vaccine  26707 non-null  int64\n",
      "dtypes: int64(3)\n",
      "memory usage: 626.1 KB\n"
     ]
    }
   ],
   "source": [
    "label.info()"
   ]
  },
  {
   "cell_type": "code",
   "execution_count": 103,
   "id": "a4c61965",
   "metadata": {},
   "outputs": [],
   "source": [
    "train['data']='train'\n",
    "test['data']='test'"
   ]
  },
  {
   "cell_type": "code",
   "execution_count": 104,
   "id": "92765808",
   "metadata": {},
   "outputs": [],
   "source": [
    "combinedf=pd.concat([test,train],axis=0)"
   ]
  },
  {
   "cell_type": "code",
   "execution_count": 105,
   "id": "a41c281b",
   "metadata": {},
   "outputs": [],
   "source": [
    "from sklearn.preprocessing import LabelEncoder"
   ]
  },
  {
   "cell_type": "code",
   "execution_count": 106,
   "id": "99a87da2",
   "metadata": {},
   "outputs": [],
   "source": [
    "le=LabelEncoder()"
   ]
  },
  {
   "cell_type": "code",
   "execution_count": 107,
   "id": "1d8cc6d2",
   "metadata": {},
   "outputs": [],
   "source": [
    "original=combinedf"
   ]
  },
  {
   "cell_type": "code",
   "execution_count": 108,
   "id": "2fba54eb",
   "metadata": {},
   "outputs": [],
   "source": [
    "mask=combinedf.isnull()"
   ]
  },
  {
   "cell_type": "code",
   "execution_count": 109,
   "id": "bb0845ee",
   "metadata": {},
   "outputs": [],
   "source": [
    "combinedf=combinedf.astype(str).apply(le.fit_transform)"
   ]
  },
  {
   "cell_type": "code",
   "execution_count": 110,
   "id": "bacfc694",
   "metadata": {},
   "outputs": [],
   "source": [
    "combinedf=combinedf.where(~mask,original)"
   ]
  },
  {
   "cell_type": "code",
   "execution_count": 111,
   "id": "8a0c7cba",
   "metadata": {},
   "outputs": [],
   "source": [
    "from sklearn.experimental import enable_iterative_imputer\n",
    "from sklearn.impute import IterativeImputer\n",
    "from sklearn.tree import DecisionTreeClassifier"
   ]
  },
  {
   "cell_type": "code",
   "execution_count": 112,
   "id": "912b1dc0",
   "metadata": {},
   "outputs": [],
   "source": [
    "imputer=IterativeImputer(estimator=DecisionTreeClassifier(),\n",
    "                        initial_strategy='most_frequent',\n",
    "                        max_iter=20)"
   ]
  },
  {
   "cell_type": "code",
   "execution_count": 113,
   "id": "f56499fb",
   "metadata": {},
   "outputs": [],
   "source": [
    "combinedf1=combinedf.drop(['respondent_id','data'],axis=1)"
   ]
  },
  {
   "cell_type": "code",
   "execution_count": 114,
   "id": "44b24959",
   "metadata": {},
   "outputs": [
    {
     "name": "stderr",
     "output_type": "stream",
     "text": [
      "/opt/anaconda3/lib/python3.8/site-packages/sklearn/impute/_iterative.py:699: ConvergenceWarning: [IterativeImputer] Early stopping criterion not reached.\n",
      "  warnings.warn(\n"
     ]
    }
   ],
   "source": [
    "combinedf1_impute=imputer.fit_transform(combinedf1)"
   ]
  },
  {
   "cell_type": "code",
   "execution_count": 115,
   "id": "1ae8e849",
   "metadata": {},
   "outputs": [],
   "source": [
    "combinedf1_impute=pd.DataFrame(combinedf1_impute,columns=combinedf1.columns)"
   ]
  },
  {
   "cell_type": "code",
   "execution_count": 116,
   "id": "8c1a8cf2",
   "metadata": {},
   "outputs": [
    {
     "name": "stdout",
     "output_type": "stream",
     "text": [
      "<class 'pandas.core.frame.DataFrame'>\n",
      "RangeIndex: 53415 entries, 0 to 53414\n",
      "Data columns (total 35 columns):\n",
      " #   Column                       Non-Null Count  Dtype  \n",
      "---  ------                       --------------  -----  \n",
      " 0   h1n1_concern                 53415 non-null  float64\n",
      " 1   h1n1_knowledge               53415 non-null  float64\n",
      " 2   behavioral_antiviral_meds    53415 non-null  float64\n",
      " 3   behavioral_avoidance         53415 non-null  float64\n",
      " 4   behavioral_face_mask         53415 non-null  float64\n",
      " 5   behavioral_wash_hands        53415 non-null  float64\n",
      " 6   behavioral_large_gatherings  53415 non-null  float64\n",
      " 7   behavioral_outside_home      53415 non-null  float64\n",
      " 8   behavioral_touch_face        53415 non-null  float64\n",
      " 9   doctor_recc_h1n1             53415 non-null  float64\n",
      " 10  doctor_recc_seasonal         53415 non-null  float64\n",
      " 11  chronic_med_condition        53415 non-null  float64\n",
      " 12  child_under_6_months         53415 non-null  float64\n",
      " 13  health_worker                53415 non-null  float64\n",
      " 14  health_insurance             53415 non-null  float64\n",
      " 15  opinion_h1n1_vacc_effective  53415 non-null  float64\n",
      " 16  opinion_h1n1_risk            53415 non-null  float64\n",
      " 17  opinion_h1n1_sick_from_vacc  53415 non-null  float64\n",
      " 18  opinion_seas_vacc_effective  53415 non-null  float64\n",
      " 19  opinion_seas_risk            53415 non-null  float64\n",
      " 20  opinion_seas_sick_from_vacc  53415 non-null  float64\n",
      " 21  age_group                    53415 non-null  float64\n",
      " 22  education                    53415 non-null  float64\n",
      " 23  race                         53415 non-null  float64\n",
      " 24  sex                          53415 non-null  float64\n",
      " 25  income_poverty               53415 non-null  float64\n",
      " 26  marital_status               53415 non-null  float64\n",
      " 27  rent_or_own                  53415 non-null  float64\n",
      " 28  employment_status            53415 non-null  float64\n",
      " 29  hhs_geo_region               53415 non-null  float64\n",
      " 30  census_msa                   53415 non-null  float64\n",
      " 31  household_adults             53415 non-null  float64\n",
      " 32  household_children           53415 non-null  float64\n",
      " 33  employment_industry          53415 non-null  float64\n",
      " 34  employment_occupation        53415 non-null  float64\n",
      "dtypes: float64(35)\n",
      "memory usage: 14.3 MB\n"
     ]
    }
   ],
   "source": [
    "combinedf1_impute.info()"
   ]
  },
  {
   "cell_type": "code",
   "execution_count": 117,
   "id": "8ad17419",
   "metadata": {},
   "outputs": [],
   "source": [
    "combinedf1_impute=combinedf1_impute.reset_index()"
   ]
  },
  {
   "cell_type": "code",
   "execution_count": 118,
   "id": "a352e618",
   "metadata": {},
   "outputs": [],
   "source": [
    "combinedf=combinedf.reset_index()"
   ]
  },
  {
   "cell_type": "code",
   "execution_count": 119,
   "id": "f7f04960",
   "metadata": {},
   "outputs": [],
   "source": [
    "combinedf1_impute['data']=combinedf.data"
   ]
  },
  {
   "cell_type": "code",
   "execution_count": 120,
   "id": "ac7ce6fd",
   "metadata": {},
   "outputs": [],
   "source": [
    "train=combinedf1_impute[combinedf1_impute.data==1]\n",
    "test=combinedf1_impute[combinedf1_impute.data==0]"
   ]
  },
  {
   "cell_type": "code",
   "execution_count": 121,
   "id": "e89dca3e",
   "metadata": {},
   "outputs": [
    {
     "name": "stdout",
     "output_type": "stream",
     "text": [
      "(26707, 37)\n",
      "(26708, 37)\n"
     ]
    }
   ],
   "source": [
    "print(train.shape)\n",
    "print(test.shape)"
   ]
  },
  {
   "cell_type": "code",
   "execution_count": 122,
   "id": "5c01acd7",
   "metadata": {},
   "outputs": [],
   "source": [
    "train=train.drop(['index','data'],axis=1)\n",
    "test=test.drop(['index','data'],axis=1)"
   ]
  },
  {
   "cell_type": "code",
   "execution_count": 123,
   "id": "b4a2df86",
   "metadata": {},
   "outputs": [],
   "source": [
    "y=label.seasonal_vaccine\n",
    "X=train"
   ]
  },
  {
   "cell_type": "code",
   "execution_count": 125,
   "id": "80539818",
   "metadata": {},
   "outputs": [
    {
     "data": {
      "text/plain": [
       "<AxesSubplot: >"
      ]
     },
     "execution_count": 125,
     "metadata": {},
     "output_type": "execute_result"
    },
    {
     "data": {
      "image/png": "[encoded data removed]",
      "text/plain": [
       "<Figure size 640x480 with 1 Axes>"
      ]
     },
     "metadata": {},
     "output_type": "display_data"
    }
   ],
   "source": [
    "y.value_counts().plot(kind='bar')"
   ]
  },
  {
   "cell_type": "code",
   "execution_count": 126,
   "id": "a2588719",
   "metadata": {},
   "outputs": [
    {
     "data": {
      "text/plain": [
       "<AxesSubplot: >"
      ]
     },
     "execution_count": 126,
     "metadata": {},
     "output_type": "execute_result"
    },
    {
     "data": {
      "image/png": "[encoded data removed]",
      "text/plain": [
       "<Figure size 640x480 with 1 Axes>"
      ]
     },
     "metadata": {},
     "output_type": "display_data"
    }
   ],
   "source": [
    "label.h1n1_vaccine.value_counts().plot(kind='bar')"
   ]
  },
  {
   "cell_type": "code",
   "execution_count": 153,
   "id": "d6d3e1de",
   "metadata": {},
   "outputs": [],
   "source": [
    "from sklearn.linear_model import LogisticRegression\n",
    "from sklearn.metrics import classification_report\n",
    "from sklearn.metrics import RocCurveDisplay\n",
    "from sklearn.metrics import ConfusionMatrixDisplay"
   ]
  },
  {
   "cell_type": "code",
   "execution_count": 142,
   "id": "37985b65",
   "metadata": {},
   "outputs": [],
   "source": [
    "logit=LogisticRegression(max_iter=2000)"
   ]
  },
  {
   "cell_type": "code",
   "execution_count": 143,
   "id": "b7a8410b",
   "metadata": {},
   "outputs": [],
   "source": [
    "logitmodel=logit.fit(X,y)"
   ]
  },
  {
   "cell_type": "code",
   "execution_count": 144,
   "id": "d97464c5",
   "metadata": {},
   "outputs": [
    {
     "data": {
      "text/plain": [
       "0.7721571123675441"
      ]
     },
     "execution_count": 144,
     "metadata": {},
     "output_type": "execute_result"
    }
   ],
   "source": [
    "logitmodel.score(X,y)"
   ]
  },
  {
   "cell_type": "code",
   "execution_count": 163,
   "id": "3192360d",
   "metadata": {},
   "outputs": [
    {
     "data": {
      "text/plain": [
       "<sklearn.metrics._plot.confusion_matrix.ConfusionMatrixDisplay at 0x7fae8cf474f0>"
      ]
     },
     "execution_count": 163,
     "metadata": {},
     "output_type": "execute_result"
    },
    {
     "data": {
      "image/png": "[encoded data removed]",
      "text/plain": [
       "<Figure size 640x480 with 2 Axes>"
      ]
     },
     "metadata": {},
     "output_type": "display_data"
    }
   ],
   "source": [
    "ConfusionMatrixDisplay.from_predictions(logit_predict,y)"
   ]
  },
  {
   "cell_type": "code",
   "execution_count": 164,
   "id": "9f578752",
   "metadata": {},
   "outputs": [
    {
     "data": {
      "text/plain": [
       "<sklearn.metrics._plot.confusion_matrix.ConfusionMatrixDisplay at 0x7fae8d45d3a0>"
      ]
     },
     "execution_count": 164,
     "metadata": {},
     "output_type": "execute_result"
    },
    {
     "data": {
      "image/png": "[encoded data removed]",
      "text/plain": [
       "<Figure size 640x480 with 2 Axes>"
      ]
     },
     "metadata": {},
     "output_type": "display_data"
    }
   ],
   "source": [
    "ConfusionMatrixDisplay.from_predictions(y,logit_predict)"
   ]
  },
  {
   "cell_type": "code",
   "execution_count": 145,
   "id": "d0f9a020",
   "metadata": {},
   "outputs": [],
   "source": [
    "logit_predict=logitmodel.predict(X)"
   ]
  },
  {
   "cell_type": "code",
   "execution_count": 146,
   "id": "6e51887d",
   "metadata": {},
   "outputs": [
    {
     "name": "stdout",
     "output_type": "stream",
     "text": [
      "              precision    recall  f1-score   support\n",
      "\n",
      "           0       0.78      0.81      0.79     14272\n",
      "           1       0.77      0.73      0.75     12435\n",
      "\n",
      "    accuracy                           0.77     26707\n",
      "   macro avg       0.77      0.77      0.77     26707\n",
      "weighted avg       0.77      0.77      0.77     26707\n",
      "\n"
     ]
    }
   ],
   "source": [
    "print(classification_report(y,logit_predict))"
   ]
  },
  {
   "cell_type": "code",
   "execution_count": 147,
   "id": "7778c68e",
   "metadata": {},
   "outputs": [
    {
     "data": {
      "text/plain": [
       "<sklearn.metrics._plot.roc_curve.RocCurveDisplay at 0x7faf28d69310>"
      ]
     },
     "execution_count": 147,
     "metadata": {},
     "output_type": "execute_result"
    },
    {
     "data": {
      "image/png": "[encoded data removed]",
      "text/plain": [
       "<Figure size 640x480 with 1 Axes>"
      ]
     },
     "metadata": {},
     "output_type": "display_data"
    }
   ],
   "source": [
    "RocCurveDisplay.from_estimator(logit,X,y)"
   ]
  },
  {
   "cell_type": "code",
   "execution_count": 148,
   "id": "e8e7b1fa",
   "metadata": {},
   "outputs": [],
   "source": [
    "logith1n1=logit.fit(X,label.h1n1_vaccine)"
   ]
  },
  {
   "cell_type": "code",
   "execution_count": 149,
   "id": "98bc1cd1",
   "metadata": {},
   "outputs": [
    {
     "data": {
      "text/plain": [
       "0.8307559815778635"
      ]
     },
     "execution_count": 149,
     "metadata": {},
     "output_type": "execute_result"
    }
   ],
   "source": [
    "logith1n1.score(X,label.h1n1_vaccine)"
   ]
  },
  {
   "cell_type": "code",
   "execution_count": 150,
   "id": "d7a5337d",
   "metadata": {},
   "outputs": [],
   "source": [
    "logit_predicth1n1=logith1n1.predict(X)"
   ]
  },
  {
   "cell_type": "code",
   "execution_count": 151,
   "id": "74d7c3d7",
   "metadata": {},
   "outputs": [
    {
     "name": "stdout",
     "output_type": "stream",
     "text": [
      "              precision    recall  f1-score   support\n",
      "\n",
      "           0       0.95      0.85      0.90     23313\n",
      "           1       0.40      0.67      0.50      3394\n",
      "\n",
      "    accuracy                           0.83     26707\n",
      "   macro avg       0.67      0.76      0.70     26707\n",
      "weighted avg       0.88      0.83      0.85     26707\n",
      "\n"
     ]
    }
   ],
   "source": [
    "print(classification_report(logit_predicth1n1,label.h1n1_vaccine))"
   ]
  },
  {
   "cell_type": "code",
   "execution_count": 152,
   "id": "05f1a58f",
   "metadata": {},
   "outputs": [
    {
     "data": {
      "text/plain": [
       "<sklearn.metrics._plot.roc_curve.RocCurveDisplay at 0x7fae8cac3970>"
      ]
     },
     "execution_count": 152,
     "metadata": {},
     "output_type": "execute_result"
    },
    {
     "data": {
      "image/png": "[encoded data removed]",
      "text/plain": [
       "<Figure size 640x480 with 1 Axes>"
      ]
     },
     "metadata": {},
     "output_type": "display_data"
    }
   ],
   "source": [
    "RocCurveDisplay.from_estimator(logit,X,label.h1n1_vaccine)"
   ]
  },
  {
   "cell_type": "code",
   "execution_count": 165,
   "id": "52ac985d",
   "metadata": {},
   "outputs": [],
   "source": [
    "from sklearn.naive_bayes import CategoricalNB"
   ]
  },
  {
   "cell_type": "code",
   "execution_count": 166,
   "id": "7a6bd56f",
   "metadata": {},
   "outputs": [],
   "source": [
    "nb=CategoricalNB()"
   ]
  },
  {
   "cell_type": "code",
   "execution_count": 167,
   "id": "2faf8bde",
   "metadata": {},
   "outputs": [],
   "source": [
    "nbmodel=nb.fit(X,y)"
   ]
  },
  {
   "cell_type": "code",
   "execution_count": 168,
   "id": "d9482b4b",
   "metadata": {},
   "outputs": [
    {
     "data": {
      "text/plain": [
       "0.7530235518777848"
      ]
     },
     "execution_count": 168,
     "metadata": {},
     "output_type": "execute_result"
    }
   ],
   "source": [
    "nbmodel.score(X,y)"
   ]
  },
  {
   "cell_type": "code",
   "execution_count": 169,
   "id": "451db1cc",
   "metadata": {},
   "outputs": [],
   "source": [
    "from sklearn.svm import SVC"
   ]
  },
  {
   "cell_type": "code",
   "execution_count": 170,
   "id": "386c9559",
   "metadata": {},
   "outputs": [],
   "source": [
    "svm=SVC()"
   ]
  },
  {
   "cell_type": "code",
   "execution_count": 171,
   "id": "b4be3ae8",
   "metadata": {},
   "outputs": [],
   "source": [
    "svmmodel=svm.fit(X,y)"
   ]
  },
  {
   "cell_type": "code",
   "execution_count": 172,
   "id": "fdd1a1d4",
   "metadata": {},
   "outputs": [
    {
     "data": {
      "text/plain": [
       "0.7759014490582993"
      ]
     },
     "execution_count": 172,
     "metadata": {},
     "output_type": "execute_result"
    }
   ],
   "source": [
    "svmmodel.score(X,y)"
   ]
  },
  {
   "cell_type": "code",
   "execution_count": 173,
   "id": "76d2e318",
   "metadata": {},
   "outputs": [],
   "source": [
    "#Stacked Classifier:\n",
    "\n",
    "from sklearn.tree import DecisionTreeClassifier\n",
    "from sklearn.ensemble import RandomForestClassifier\n",
    "from sklearn.ensemble import GradientBoostingClassifier\n",
    "from sklearn.ensemble import StackingClassifier"
   ]
  },
  {
   "cell_type": "code",
   "execution_count": 174,
   "id": "86cb4855",
   "metadata": {},
   "outputs": [],
   "source": [
    "estimators=[\n",
    "    ('tree',DecisionTreeClassifier()),\n",
    "    ('rf',RandomForestClassifier()),\n",
    "    ('gbm',GradientBoostingClassifier()),\n",
    "    ('nb',CategoricalNB()),\n",
    "    ('svm',SVC())\n",
    "]"
   ]
  },
  {
   "cell_type": "code",
   "execution_count": 179,
   "id": "aea29607",
   "metadata": {},
   "outputs": [],
   "source": [
    "clf=StackingClassifier(estimators=estimators,\n",
    "                      final_estimator=DecisionTreeClassifier())"
   ]
  },
  {
   "cell_type": "code",
   "execution_count": 180,
   "id": "ce448073",
   "metadata": {},
   "outputs": [],
   "source": [
    "clfmodel=clf.fit(X,y)"
   ]
  },
  {
   "cell_type": "code",
   "execution_count": 181,
   "id": "a118cdb8",
   "metadata": {},
   "outputs": [
    {
     "data": {
      "text/plain": [
       "0.6988804433294642"
      ]
     },
     "execution_count": 181,
     "metadata": {},
     "output_type": "execute_result"
    }
   ],
   "source": [
    "clfmodel.score(X,y)"
   ]
  },
  {
   "cell_type": "code",
   "execution_count": 182,
   "id": "82a69bd6",
   "metadata": {},
   "outputs": [
    {
     "data": {
      "text/plain": [
       "DecisionTreeClassifier()"
      ]
     },
     "execution_count": 182,
     "metadata": {},
     "output_type": "execute_result"
    }
   ],
   "source": [
    "clfmodel.final_estimator"
   ]
  },
  {
   "cell_type": "code",
   "execution_count": null,
   "id": "4f0c156c",
   "metadata": {},
   "outputs": [],
   "source": []
  }
 ],
 "metadata": {
  "kernelspec": {
   "display_name": "Python 3 (ipykernel)",
   "language": "python",
   "name": "python3"
  },
  "language_info": {
   "codemirror_mode": {
    "name": "ipython",
    "version": 3
   },
   "file_extension": ".py",
   "mimetype": "text/x-python",
   "name": "python",
   "nbconvert_exporter": "python",
   "pygments_lexer": "ipython3",
   "version": "3.8.15"
  }
 },
 "nbformat": 4,
 "nbformat_minor": 5
}
