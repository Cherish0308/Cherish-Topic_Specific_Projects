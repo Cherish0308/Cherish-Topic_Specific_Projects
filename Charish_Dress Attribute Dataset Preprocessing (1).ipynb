{
 "cells": [
  {
   "cell_type": "code",
   "execution_count": 47,
   "id": "5bebe84a",
   "metadata": {},
   "outputs": [],
   "source": [
    "import pandas as pd\n",
    "import numpy as np\n",
    "import matplotlib.pyplot as plt\n",
    "%matplotlib inline"
   ]
  },
  {
   "cell_type": "code",
   "execution_count": 48,
   "id": "2235a2c4",
   "metadata": {},
   "outputs": [
    {
     "name": "stdout",
     "output_type": "stream",
     "text": [
      "/Users/avishma/Desktop\n"
     ]
    }
   ],
   "source": [
    "import io\n",
    "%cd '/Users/avishma/Desktop'"
   ]
  },
  {
   "cell_type": "code",
   "execution_count": 49,
   "id": "f28fe5aa",
   "metadata": {},
   "outputs": [],
   "source": [
    "dressdata=pd.read_csv(\"Attribute.csv\")"
   ]
  },
  {
   "cell_type": "code",
   "execution_count": 50,
   "id": "2462d3d3",
   "metadata": {},
   "outputs": [
    {
     "name": "stdout",
     "output_type": "stream",
     "text": [
      "<class 'pandas.core.frame.DataFrame'>\n",
      "RangeIndex: 479 entries, 0 to 478\n",
      "Data columns (total 13 columns):\n",
      " #   Column          Non-Null Count  Dtype  \n",
      "---  ------          --------------  -----  \n",
      " 0   Dress_ID        479 non-null    int64  \n",
      " 1   Style           479 non-null    object \n",
      " 2   Price           477 non-null    object \n",
      " 3   Rating          479 non-null    float64\n",
      " 4   Size            479 non-null    object \n",
      " 5   Season          477 non-null    object \n",
      " 6   NeckLine        476 non-null    object \n",
      " 7   SleeveLength    477 non-null    object \n",
      " 8   Material        360 non-null    object \n",
      " 9   FabricType      223 non-null    object \n",
      " 10  Decoration      255 non-null    object \n",
      " 11  Pattern Type    377 non-null    object \n",
      " 12  Recommendation  479 non-null    int64  \n",
      "dtypes: float64(1), int64(2), object(10)\n",
      "memory usage: 48.8+ KB\n"
     ]
    }
   ],
   "source": [
    "dressdata.info()"
   ]
  },
  {
   "cell_type": "code",
   "execution_count": 51,
   "id": "a1501b5a",
   "metadata": {},
   "outputs": [],
   "source": [
    "# Dependent Variable(y) - is the Variable to be predicted\n",
    "# Independent Variables (X) - multiple variables used for prediction"
   ]
  },
  {
   "cell_type": "code",
   "execution_count": 52,
   "id": "9c057bfd",
   "metadata": {},
   "outputs": [
    {
     "data": {
      "text/plain": [
       "0    274\n",
       "1    205\n",
       "Name: Recommendation, dtype: int64"
      ]
     },
     "execution_count": 52,
     "metadata": {},
     "output_type": "execute_result"
    }
   ],
   "source": [
    "dressdata.Recommendation.value_counts()"
   ]
  },
  {
   "cell_type": "code",
   "execution_count": 53,
   "id": "47949d3c",
   "metadata": {},
   "outputs": [
    {
     "data": {
      "text/plain": [
       "FabricType        256\n",
       "Decoration        224\n",
       "Material          119\n",
       "Pattern Type      102\n",
       "NeckLine            3\n",
       "Price               2\n",
       "Season              2\n",
       "SleeveLength        2\n",
       "Dress_ID            0\n",
       "Style               0\n",
       "Rating              0\n",
       "Size                0\n",
       "Recommendation      0\n",
       "dtype: int64"
      ]
     },
     "execution_count": 53,
     "metadata": {},
     "output_type": "execute_result"
    }
   ],
   "source": [
    "dressdata.isnull().sum().sort_values(ascending=False)"
   ]
  },
  {
   "cell_type": "code",
   "execution_count": 54,
   "id": "33d9af10",
   "metadata": {},
   "outputs": [],
   "source": [
    "nacols=['FabricType','Decoration','Material','Pattern Type','NeckLine',\n",
    "       'Price','Season','SleeveLength']"
   ]
  },
  {
   "cell_type": "code",
   "execution_count": 55,
   "id": "69dc2155",
   "metadata": {},
   "outputs": [
    {
     "name": "stdout",
     "output_type": "stream",
     "text": [
      "NaN           256\n",
      "chiffon       129\n",
      "broadcloth     29\n",
      "worsted        18\n",
      "jersey         12\n",
      "shiffon         8\n",
      "sattin          6\n",
      "Corduroy        2\n",
      "wollen          2\n",
      "poplin          2\n",
      "batik           2\n",
      "tulle           2\n",
      "woolen          1\n",
      "knitting        1\n",
      "satin           1\n",
      "terry           1\n",
      "other           1\n",
      "dobby           1\n",
      "flannel         1\n",
      "lace            1\n",
      "flannael        1\n",
      "organza         1\n",
      "knitted         1\n",
      "Name: FabricType, dtype: int64\n",
      "NaN           224\n",
      "lace           67\n",
      "sashes         41\n",
      "beading        22\n",
      "hollowout      21\n",
      "applique       20\n",
      "ruffles        17\n",
      "bow            14\n",
      "sequined       13\n",
      "pockets         5\n",
      "button          5\n",
      "embroidary      5\n",
      "flowers         4\n",
      "ruched          3\n",
      "rivet           3\n",
      "crystal         3\n",
      "feathers        2\n",
      "draped          2\n",
      "plain           2\n",
      "pleat           1\n",
      "tassel          1\n",
      "pearls          1\n",
      "cascading       1\n",
      "none            1\n",
      "Tiered          1\n",
      "Name: Decoration, dtype: int64\n",
      "cotton           148\n",
      "NaN              119\n",
      "polyster          93\n",
      "silk              26\n",
      "chiffonfabric     24\n",
      "mix               12\n",
      "nylon             10\n",
      "rayon             10\n",
      "milksilk           5\n",
      "spandex            5\n",
      "cashmere           4\n",
      "microfiber         3\n",
      "acrylic            3\n",
      "lycra              3\n",
      "linen              3\n",
      "other              2\n",
      "viscos             2\n",
      "shiffon            2\n",
      "model              1\n",
      "sill               1\n",
      "lace               1\n",
      "modal              1\n",
      "wool               1\n",
      "Name: Material, dtype: int64\n",
      "solid        199\n",
      "NaN          102\n",
      "print         67\n",
      "patchwork     47\n",
      "animal        19\n",
      "striped       15\n",
      "dot           13\n",
      "geometric      5\n",
      "plaid          3\n",
      "leopard        3\n",
      "floral         2\n",
      "splice         1\n",
      "none           1\n",
      "leapord        1\n",
      "character      1\n",
      "Name: Pattern Type, dtype: int64\n",
      "o-neck             257\n",
      "v-neck             119\n",
      "slash-neck          25\n",
      "boat-neck           18\n",
      "Sweetheart          14\n",
      "turndowncollor      13\n",
      "bowneck             10\n",
      "peterpan-collor      5\n",
      "sqare-collor         5\n",
      "NaN                  3\n",
      "open                 3\n",
      "Scoop                2\n",
      "ruffled              1\n",
      "halter               1\n",
      "sweetheart           1\n",
      "backless             1\n",
      "mandarin-collor      1\n",
      "Name: NeckLine, dtype: int64\n",
      "Average      240\n",
      "Low          165\n",
      "Medium        30\n",
      "High          21\n",
      "very-high     21\n",
      "NaN            2\n",
      "Name: Price, dtype: int64\n",
      "Summer    154\n",
      "Spring    116\n",
      "Winter     94\n",
      "Automn     59\n",
      "winter     45\n",
      "Autumn      7\n",
      "NaN         2\n",
      "spring      2\n",
      "Name: Season, dtype: int64\n",
      "sleevless         216\n",
      "full               94\n",
      "short              92\n",
      "halfsleeve         32\n",
      "threequarter       17\n",
      "thressqatar         8\n",
      "sleeveless          4\n",
      "capsleeves          3\n",
      "cap-sleeves         2\n",
      "NaN                 2\n",
      "sleeevless          2\n",
      "urndowncollor       1\n",
      "butterfly           1\n",
      "sleveless           1\n",
      "threequater         1\n",
      "half                1\n",
      "Petal               1\n",
      "turndowncollor      1\n",
      "Name: SleeveLength, dtype: int64\n"
     ]
    }
   ],
   "source": [
    "for col in nacols:\n",
    "    freq=dressdata[col].value_counts(dropna=False)\n",
    "    print(freq)"
   ]
  },
  {
   "cell_type": "code",
   "execution_count": 56,
   "id": "e95b9402",
   "metadata": {},
   "outputs": [],
   "source": [
    "# FabricType, Decoration - impute with word \"missing\" as too many NA\n",
    "# Material, Pattern Type - impute with word \"missing\" as too many NA.\n",
    "# Mode or most_frequent imputation - NeckLine, Price, Season,\n",
    "# SleeveLength"
   ]
  },
  {
   "cell_type": "code",
   "execution_count": 57,
   "id": "3ea63b44",
   "metadata": {},
   "outputs": [
    {
     "data": {
      "text/plain": [
       "Index(['Dress_ID', 'Style', 'Price', 'Rating', 'Size', 'Season', 'NeckLine',\n",
       "       'SleeveLength', 'Material', 'FabricType', 'Decoration', 'Pattern Type',\n",
       "       'Recommendation'],\n",
       "      dtype='object')"
      ]
     },
     "execution_count": 57,
     "metadata": {},
     "output_type": "execute_result"
    }
   ],
   "source": [
    "dressdata.columns"
   ]
  },
  {
   "cell_type": "code",
   "execution_count": 58,
   "id": "010dd714",
   "metadata": {},
   "outputs": [],
   "source": [
    "missingimpute=['Material', 'FabricType', 'Decoration', 'Pattern Type']\n",
    "for col in missingimpute:\n",
    "    dressdata[col]=dressdata[col].fillna('missing')"
   ]
  },
  {
   "cell_type": "code",
   "execution_count": 59,
   "id": "4c758760",
   "metadata": {},
   "outputs": [],
   "source": [
    "for col in dressdata.columns:\n",
    "    dressdata[col]=dressdata[col].fillna(\n",
    "        dressdata[col].value_counts().idxmax())\n",
    "# idxmax - identify the category of the maximum frequency from valuecounts\n",
    "# table"
   ]
  },
  {
   "cell_type": "code",
   "execution_count": 60,
   "id": "bb7efe74",
   "metadata": {},
   "outputs": [
    {
     "data": {
      "text/plain": [
       "sleevless         218\n",
       "full               94\n",
       "short              92\n",
       "halfsleeve         32\n",
       "threequarter       17\n",
       "thressqatar         8\n",
       "sleeveless          4\n",
       "capsleeves          3\n",
       "cap-sleeves         2\n",
       "sleeevless          2\n",
       "butterfly           1\n",
       "half                1\n",
       "sleveless           1\n",
       "threequater         1\n",
       "Petal               1\n",
       "turndowncollor      1\n",
       "urndowncollor       1\n",
       "Name: SleeveLength, dtype: int64"
      ]
     },
     "execution_count": 60,
     "metadata": {},
     "output_type": "execute_result"
    }
   ],
   "source": [
    "dressdata.SleeveLength.value_counts()"
   ]
  },
  {
   "cell_type": "code",
   "execution_count": 61,
   "id": "55d3394c",
   "metadata": {},
   "outputs": [],
   "source": [
    "dressdata.SleeveLength=dressdata.SleeveLength.replace(['sleeveless',\n",
    "                                                      'sleeevless',\n",
    "                                                      'sleveless'],\n",
    "                                                     'sleevless')"
   ]
  },
  {
   "cell_type": "code",
   "execution_count": 62,
   "id": "54f7f7a2",
   "metadata": {},
   "outputs": [],
   "source": [
    "dressdata.SleeveLength=dressdata.SleeveLength.replace(['thressqatar',\n",
    "                                                      'threequater'],\n",
    "                                                     'threequarter')"
   ]
  },
  {
   "cell_type": "code",
   "execution_count": 63,
   "id": "e64e7b75",
   "metadata": {},
   "outputs": [],
   "source": [
    "dressdata.SleeveLength=dressdata.SleeveLength.replace('cap-sleeves',\n",
    "                                                     'capsleeves')"
   ]
  },
  {
   "cell_type": "code",
   "execution_count": 64,
   "id": "39802eac",
   "metadata": {},
   "outputs": [],
   "source": [
    "dressdata.SleeveLength=dressdata.SleeveLength.replace('urndowncollor',\n",
    "                                                     'turndowncollor')"
   ]
  },
  {
   "cell_type": "code",
   "execution_count": 65,
   "id": "abb51c32",
   "metadata": {},
   "outputs": [],
   "source": [
    "dressdata.SleeveLength=dressdata.SleeveLength.replace('half','halfsleeve')"
   ]
  },
  {
   "cell_type": "code",
   "execution_count": 66,
   "id": "00c794cf",
   "metadata": {},
   "outputs": [],
   "source": [
    "dressdata.Season=dressdata.Season.replace('spring','Spring')"
   ]
  },
  {
   "cell_type": "code",
   "execution_count": 67,
   "id": "ee0cca76",
   "metadata": {},
   "outputs": [],
   "source": [
    "dressdata.Season=dressdata.Season.replace('Automn','Autumn')"
   ]
  },
  {
   "cell_type": "code",
   "execution_count": 68,
   "id": "48a32eb6",
   "metadata": {},
   "outputs": [],
   "source": [
    "dressdata.Season=dressdata.Season.replace('winter','Winter')"
   ]
  },
  {
   "cell_type": "code",
   "execution_count": 69,
   "id": "5d37726c",
   "metadata": {},
   "outputs": [
    {
     "data": {
      "text/plain": [
       "solid        199\n",
       "missing      102\n",
       "print         67\n",
       "patchwork     47\n",
       "animal        19\n",
       "striped       15\n",
       "dot           13\n",
       "geometric      5\n",
       "plaid          3\n",
       "leopard        3\n",
       "floral         2\n",
       "splice         1\n",
       "none           1\n",
       "leapord        1\n",
       "character      1\n",
       "Name: Pattern Type, dtype: int64"
      ]
     },
     "execution_count": 69,
     "metadata": {},
     "output_type": "execute_result"
    }
   ],
   "source": [
    "dressdata['Pattern Type'].value_counts()"
   ]
  },
  {
   "cell_type": "code",
   "execution_count": 70,
   "id": "e0294df0",
   "metadata": {},
   "outputs": [],
   "source": [
    "dressdata['Pattern Type']=dressdata['Pattern Type'].replace('leapord',\n",
    "                                                           'leopard')"
   ]
  },
  {
   "cell_type": "code",
   "execution_count": 71,
   "id": "9f32c8a7",
   "metadata": {},
   "outputs": [],
   "source": [
    "dressdata['Pattern Type']=dressdata['Pattern Type'].replace('none',\n",
    "                                                           'missing')"
   ]
  },
  {
   "cell_type": "code",
   "execution_count": 72,
   "id": "fd6733b4",
   "metadata": {},
   "outputs": [],
   "source": [
    "dressdata.Style=dressdata.Style.replace('sexy','Sexy')"
   ]
  },
  {
   "cell_type": "code",
   "execution_count": 73,
   "id": "53bf27f2",
   "metadata": {},
   "outputs": [],
   "source": [
    "dressdata.FabricType=dressdata.FabricType.replace(\"shiffon\",\"chiffon\")"
   ]
  },
  {
   "cell_type": "code",
   "execution_count": 74,
   "id": "d04a5378",
   "metadata": {},
   "outputs": [],
   "source": [
    "dressdata.FabricType=dressdata.FabricType.replace(\"flannel\",\"flannael\")"
   ]
  },
  {
   "cell_type": "code",
   "execution_count": 75,
   "id": "a433722f",
   "metadata": {},
   "outputs": [],
   "source": [
    "dressdata.FabricType=dressdata.FabricType.replace(\"knitting\",\"knitted\")"
   ]
  },
  {
   "cell_type": "code",
   "execution_count": 76,
   "id": "1ee32d25",
   "metadata": {},
   "outputs": [],
   "source": [
    "dressdata.FabricType=dressdata.FabricType.replace(\"sattin\",\"satin\")"
   ]
  },
  {
   "cell_type": "code",
   "execution_count": 77,
   "id": "d80284ed",
   "metadata": {},
   "outputs": [],
   "source": [
    "dressdata.FabricType=dressdata.FabricType.replace(\"woolen\",\"wollen\")"
   ]
  },
  {
   "cell_type": "code",
   "execution_count": 78,
   "id": "9dee1390",
   "metadata": {},
   "outputs": [],
   "source": [
    "dressdata.Material=dressdata.Material.replace(\"sill\",\"silk\")"
   ]
  },
  {
   "cell_type": "code",
   "execution_count": 79,
   "id": "f51b4dc9",
   "metadata": {},
   "outputs": [],
   "source": [
    "dressdata.Material=dressdata.Material.replace(\"modal\",\"model\")"
   ]
  },
  {
   "cell_type": "code",
   "execution_count": 80,
   "id": "764f40e3",
   "metadata": {},
   "outputs": [],
   "source": [
    "dressdata.Material=dressdata.Material.replace(\"shiffon\",\"chiffonfabric\")"
   ]
  },
  {
   "cell_type": "code",
   "execution_count": 81,
   "id": "80708844",
   "metadata": {},
   "outputs": [],
   "source": [
    "dressdata.NeckLine=dressdata.NeckLine.replace(\"sweetheart\",\"Sweetheart\")"
   ]
  },
  {
   "cell_type": "code",
   "execution_count": 82,
   "id": "5261579f",
   "metadata": {},
   "outputs": [],
   "source": [
    "dressdata.Size=dressdata.Size.replace([\"small\",\"s\"],\"S\")"
   ]
  },
  {
   "cell_type": "code",
   "execution_count": null,
   "id": "588b96fb",
   "metadata": {},
   "outputs": [],
   "source": []
  }
 ],
 "metadata": {
  "kernelspec": {
   "display_name": "Python 3",
   "language": "python",
   "name": "python3"
  },
  "language_info": {
   "codemirror_mode": {
    "name": "ipython",
    "version": 3
   },
   "file_extension": ".py",
   "mimetype": "text/x-python",
   "name": "python",
   "nbconvert_exporter": "python",
   "pygments_lexer": "ipython3",
   "version": "3.8.8"
  }
 },
 "nbformat": 4,
 "nbformat_minor": 5
}
